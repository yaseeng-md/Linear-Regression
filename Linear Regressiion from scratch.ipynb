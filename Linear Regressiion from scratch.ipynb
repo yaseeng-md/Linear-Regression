{
 "cells": [
  {
   "cell_type": "code",
   "execution_count": 2,
   "id": "99056ecd",
   "metadata": {},
   "outputs": [
    {
     "name": "stdout",
     "output_type": "stream",
     "text": [
      "Requirement already satisfied: pandas in c:\\users\\gandl\\anaconda3\\lib\\site-packages (2.0.3)\n",
      "Requirement already satisfied: python-dateutil>=2.8.2 in c:\\users\\gandl\\anaconda3\\lib\\site-packages (from pandas) (2.8.2)\n",
      "Requirement already satisfied: pytz>=2020.1 in c:\\users\\gandl\\anaconda3\\lib\\site-packages (from pandas) (2023.3.post1)\n",
      "Requirement already satisfied: tzdata>=2022.1 in c:\\users\\gandl\\anaconda3\\lib\\site-packages (from pandas) (2023.3)\n",
      "Requirement already satisfied: numpy>=1.21.0 in c:\\users\\gandl\\anaconda3\\lib\\site-packages (from pandas) (1.24.3)\n",
      "Requirement already satisfied: six>=1.5 in c:\\users\\gandl\\anaconda3\\lib\\site-packages (from python-dateutil>=2.8.2->pandas) (1.16.0)\n",
      "Requirement already satisfied: matplotlib in c:\\users\\gandl\\anaconda3\\lib\\site-packages (3.7.2)\n",
      "Requirement already satisfied: contourpy>=1.0.1 in c:\\users\\gandl\\anaconda3\\lib\\site-packages (from matplotlib) (1.0.5)\n",
      "Requirement already satisfied: cycler>=0.10 in c:\\users\\gandl\\anaconda3\\lib\\site-packages (from matplotlib) (0.11.0)\n",
      "Requirement already satisfied: fonttools>=4.22.0 in c:\\users\\gandl\\anaconda3\\lib\\site-packages (from matplotlib) (4.25.0)\n",
      "Requirement already satisfied: kiwisolver>=1.0.1 in c:\\users\\gandl\\anaconda3\\lib\\site-packages (from matplotlib) (1.4.4)\n",
      "Requirement already satisfied: numpy>=1.20 in c:\\users\\gandl\\anaconda3\\lib\\site-packages (from matplotlib) (1.24.3)\n",
      "Requirement already satisfied: packaging>=20.0 in c:\\users\\gandl\\anaconda3\\lib\\site-packages (from matplotlib) (23.1)\n",
      "Requirement already satisfied: pillow>=6.2.0 in c:\\users\\gandl\\anaconda3\\lib\\site-packages (from matplotlib) (10.2.0)\n",
      "Requirement already satisfied: pyparsing<3.1,>=2.3.1 in c:\\users\\gandl\\anaconda3\\lib\\site-packages (from matplotlib) (3.0.9)\n",
      "Requirement already satisfied: python-dateutil>=2.7 in c:\\users\\gandl\\anaconda3\\lib\\site-packages (from matplotlib) (2.8.2)\n",
      "Requirement already satisfied: six>=1.5 in c:\\users\\gandl\\anaconda3\\lib\\site-packages (from python-dateutil>=2.7->matplotlib) (1.16.0)\n"
     ]
    }
   ],
   "source": [
    "!pip install pandas\n",
    "!pip install matplotlib"
   ]
  },
  {
   "cell_type": "code",
   "execution_count": 13,
   "id": "c1f86689",
   "metadata": {},
   "outputs": [
    {
     "name": "stdout",
     "output_type": "stream",
     "text": [
      "Requirement already satisfied: scikit-learn in c:\\users\\gandl\\anaconda3\\lib\\site-packages (1.3.0)\n",
      "Requirement already satisfied: numpy>=1.17.3 in c:\\users\\gandl\\anaconda3\\lib\\site-packages (from scikit-learn) (1.24.3)\n",
      "Requirement already satisfied: scipy>=1.5.0 in c:\\users\\gandl\\anaconda3\\lib\\site-packages (from scikit-learn) (1.11.1)\n",
      "Requirement already satisfied: joblib>=1.1.1 in c:\\users\\gandl\\anaconda3\\lib\\site-packages (from scikit-learn) (1.2.0)\n",
      "Requirement already satisfied: threadpoolctl>=2.0.0 in c:\\users\\gandl\\anaconda3\\lib\\site-packages (from scikit-learn) (2.2.0)\n"
     ]
    }
   ],
   "source": [
    "!pip install scikit-learn"
   ]
  },
  {
   "cell_type": "code",
   "execution_count": 98,
   "id": "cf343362",
   "metadata": {},
   "outputs": [],
   "source": [
    "import pandas as pd\n",
    "from sklearn.model_selection import train_test_split\n",
    "import matplotlib.pyplot as plt\n",
    "import numpy as np \n",
    "%matplotlib inline"
   ]
  },
  {
   "cell_type": "code",
   "execution_count": 121,
   "id": "4a93b15f",
   "metadata": {},
   "outputs": [
    {
     "data": {
      "text/plain": [
       "89.29"
      ]
     },
     "execution_count": 121,
     "metadata": {},
     "output_type": "execute_result"
    }
   ],
   "source": [
    "data_set = pd.read_csv(r\"C:\\Users\\gandl\\Documents\\Linear Regression\\Ice_Cream _Sales_temperatures.csv\")\n",
    "data_set[\"Ice Cream Profits\"].max()\n"
   ]
  },
  {
   "cell_type": "code",
   "execution_count": 11,
   "id": "0c70300a",
   "metadata": {},
   "outputs": [
    {
     "data": {
      "image/png": "[encoded data removed]",
      "text/plain": [
       "<Figure size 640x480 with 1 Axes>"
      ]
     },
     "metadata": {},
     "output_type": "display_data"
    }
   ],
   "source": [
    "plt.scatter(data_set.Temperature,data_set[\"Ice Cream Profits\"])\n",
    "plt.xlabel(\"Temperature\")\n",
    "plt.ylabel(\"Ice Cream Profits\")\n",
    "plt.show()\n"
   ]
  },
  {
   "cell_type": "markdown",
   "id": "c2e70ab4",
   "metadata": {},
   "source": [
    "DEFINE THE LOSS FUNCTION \n"
   ]
  },
  {
   "cell_type": "code",
   "execution_count": 128,
   "id": "b4a91e27",
   "metadata": {},
   "outputs": [],
   "source": [
    "def mean_squared_error(data,m,b):\n",
    "    total_error = 0\n",
    "    for i in range (len(data_set)):\n",
    "        x = data_set[\"Temperature\"].iloc[i]\n",
    "        y = data_set[\"Ice Cream Profits\"].iloc[i]\n",
    "        total_error += (y - (m*x + b))**2\n",
    "    mean_error = total_error / len(data_set)\n",
    "    return mean_error"
   ]
  },
  {
   "cell_type": "markdown",
   "id": "ca3b8dfc",
   "metadata": {},
   "source": [
    "Define the Gradient Decent for the Linear Regression :"
   ]
  },
  {
   "cell_type": "code",
   "execution_count": 80,
   "id": "b375446a",
   "metadata": {},
   "outputs": [],
   "source": [
    "def gradient_decent(m_present,b_present,data_set,Learing_rate):\n",
    "        m_gradient = 0\n",
    "        b_gradient = 0\n",
    "        \n",
    "        for i in range (len(data_set)):\n",
    "            x = data_set[\"Temperature\"].iloc[i]\n",
    "            y = data_set[\"Ice Cream Profits\"].iloc[i]\n",
    "            m_gradient = (-2/len(data_set)) * x * (y - ((m_present * x) + b_present))\n",
    "            b_gradient = (-2/len(data_set)) * (y - ((m_present * x) + b_present))\n",
    "        m = m_present - m_gradient * Learing_rate\n",
    "        b = b_present - b_gradient * Learing_rate\n",
    "        return m,b"
   ]
  },
  {
   "cell_type": "markdown",
   "id": "eeb04c8f",
   "metadata": {},
   "source": [
    "Initialize the values of m,b,Learing_rate,No of epoches we want to Run"
   ]
  },
  {
   "cell_type": "code",
   "execution_count": 129,
   "id": "b6a4ac70",
   "metadata": {},
   "outputs": [
    {
     "name": "stdout",
     "output_type": "stream",
     "text": [
      "m = 0.8416996667320132,\n",
      "b = 0.008333660066653597\n",
      "99.4667016679231\n"
     ]
    }
   ],
   "source": [
    "m = 0 # Randlomly Initialize the parameters \n",
    "b = 0 # Randlomly Initialize the parameters \n",
    "Learning_rate = 0.01 # We should tune for better results\n",
    "eposches = 100 #No of times we wannt to learn \n",
    "\n",
    "for i in range (eposches):\n",
    "    m,b = gradient_decent(m,b,data_set,Learning_rate)\n",
    "print(f\"m = {m},\\nb = {b}\")\n",
    "print(mean_squared_error(data_set,m,b))\n",
    "\n"
   ]
  },
  {
   "cell_type": "markdown",
   "id": "57dcca62",
   "metadata": {},
   "source": [
    "Our Model is ready with Parameters of \"m\" and \"b\":\n",
    "Now its time to predict the output"
   ]
  },
  {
   "cell_type": "code",
   "execution_count": 132,
   "id": "12f2ab18",
   "metadata": {},
   "outputs": [
    {
     "name": "stdout",
     "output_type": "stream",
     "text": [
      "74.07790433248383\n"
     ]
    }
   ],
   "source": [
    "def predict (x,m = m,b = b):\n",
    "    return (m * x + b) \n",
    "print(predict(88))"
   ]
  }
 ],
 "metadata": {
  "kernelspec": {
   "display_name": "Python 3 (ipykernel)",
   "language": "python",
   "name": "python3"
  },
  "language_info": {
   "codemirror_mode": {
    "name": "ipython",
    "version": 3
   },
   "file_extension": ".py",
   "mimetype": "text/x-python",
   "name": "python",
   "nbconvert_exporter": "python",
   "pygments_lexer": "ipython3",
   "version": "3.11.5"
  }
 },
 "nbformat": 4,
 "nbformat_minor": 5
}
