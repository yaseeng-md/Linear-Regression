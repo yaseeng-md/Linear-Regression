{
 "cells": [
  {
   "cell_type": "markdown",
   "id": "0df88117",
   "metadata": {},
   "source": [
    "Install all the libaries required "
   ]
  },
  {
   "cell_type": "code",
   "execution_count": 31,
   "id": "b6b103f4",
   "metadata": {},
   "outputs": [],
   "source": [
    "import numpy as np\n",
    "import pandas as pd\n",
    "from sklearn.model_selection import train_test_split\n",
    "from sklearn.linear_model import LinearRegression\n",
    "from sklearn.metrics import accuracy_score,mean_squared_error\n",
    "import matplotlib.pyplot as plt\n",
    "%matplotlib inline"
   ]
  },
  {
   "cell_type": "code",
   "execution_count": 2,
   "id": "1b2d728d",
   "metadata": {},
   "outputs": [
    {
     "data": {
      "text/html": [
       "<div>\n",
       "<style scoped>\n",
       "    .dataframe tbody tr th:only-of-type {\n",
       "        vertical-align: middle;\n",
       "    }\n",
       "\n",
       "    .dataframe tbody tr th {\n",
       "        vertical-align: top;\n",
       "    }\n",
       "\n",
       "    .dataframe thead th {\n",
       "        text-align: right;\n",
       "    }\n",
       "</style>\n",
       "<table border=\"1\" class=\"dataframe\">\n",
       "  <thead>\n",
       "    <tr style=\"text-align: right;\">\n",
       "      <th></th>\n",
       "      <th>Temperature</th>\n",
       "      <th>Ice Cream Profits</th>\n",
       "    </tr>\n",
       "  </thead>\n",
       "  <tbody>\n",
       "    <tr>\n",
       "      <th>0</th>\n",
       "      <td>39</td>\n",
       "      <td>13.17</td>\n",
       "    </tr>\n",
       "    <tr>\n",
       "      <th>1</th>\n",
       "      <td>40</td>\n",
       "      <td>11.88</td>\n",
       "    </tr>\n",
       "    <tr>\n",
       "      <th>2</th>\n",
       "      <td>41</td>\n",
       "      <td>18.82</td>\n",
       "    </tr>\n",
       "    <tr>\n",
       "      <th>3</th>\n",
       "      <td>42</td>\n",
       "      <td>18.65</td>\n",
       "    </tr>\n",
       "    <tr>\n",
       "      <th>4</th>\n",
       "      <td>43</td>\n",
       "      <td>17.02</td>\n",
       "    </tr>\n",
       "    <tr>\n",
       "      <th>...</th>\n",
       "      <td>...</td>\n",
       "      <td>...</td>\n",
       "    </tr>\n",
       "    <tr>\n",
       "      <th>360</th>\n",
       "      <td>99</td>\n",
       "      <td>85.13</td>\n",
       "    </tr>\n",
       "    <tr>\n",
       "      <th>361</th>\n",
       "      <td>99</td>\n",
       "      <td>87.08</td>\n",
       "    </tr>\n",
       "    <tr>\n",
       "      <th>362</th>\n",
       "      <td>99</td>\n",
       "      <td>89.29</td>\n",
       "    </tr>\n",
       "    <tr>\n",
       "      <th>363</th>\n",
       "      <td>101</td>\n",
       "      <td>81.91</td>\n",
       "    </tr>\n",
       "    <tr>\n",
       "      <th>364</th>\n",
       "      <td>101</td>\n",
       "      <td>85.02</td>\n",
       "    </tr>\n",
       "  </tbody>\n",
       "</table>\n",
       "<p>365 rows × 2 columns</p>\n",
       "</div>"
      ],
      "text/plain": [
       "     Temperature  Ice Cream Profits\n",
       "0             39              13.17\n",
       "1             40              11.88\n",
       "2             41              18.82\n",
       "3             42              18.65\n",
       "4             43              17.02\n",
       "..           ...                ...\n",
       "360           99              85.13\n",
       "361           99              87.08\n",
       "362           99              89.29\n",
       "363          101              81.91\n",
       "364          101              85.02\n",
       "\n",
       "[365 rows x 2 columns]"
      ]
     },
     "execution_count": 2,
     "metadata": {},
     "output_type": "execute_result"
    }
   ],
   "source": [
    "# Access the data\n",
    "data_set = pd.read_csv(r\"C:\\Users\\gandl\\Documents\\Linear Regression\\Ice_Cream _Sales_temperatures.csv\")\n",
    "data_set"
   ]
  },
  {
   "cell_type": "code",
   "execution_count": 77,
   "id": "66509305",
   "metadata": {},
   "outputs": [
    {
     "data": {
      "text/html": [
       "<div>\n",
       "<style scoped>\n",
       "    .dataframe tbody tr th:only-of-type {\n",
       "        vertical-align: middle;\n",
       "    }\n",
       "\n",
       "    .dataframe tbody tr th {\n",
       "        vertical-align: top;\n",
       "    }\n",
       "\n",
       "    .dataframe thead th {\n",
       "        text-align: right;\n",
       "    }\n",
       "</style>\n",
       "<table border=\"1\" class=\"dataframe\">\n",
       "  <thead>\n",
       "    <tr style=\"text-align: right;\">\n",
       "      <th></th>\n",
       "      <th>Temperature</th>\n",
       "      <th>Ice Cream Profits</th>\n",
       "    </tr>\n",
       "  </thead>\n",
       "  <tbody>\n",
       "    <tr>\n",
       "      <th>count</th>\n",
       "      <td>365.000000</td>\n",
       "      <td>365.000000</td>\n",
       "    </tr>\n",
       "    <tr>\n",
       "      <th>mean</th>\n",
       "      <td>71.980822</td>\n",
       "      <td>52.103616</td>\n",
       "    </tr>\n",
       "    <tr>\n",
       "      <th>std</th>\n",
       "      <td>13.258510</td>\n",
       "      <td>15.989004</td>\n",
       "    </tr>\n",
       "    <tr>\n",
       "      <th>min</th>\n",
       "      <td>39.000000</td>\n",
       "      <td>11.880000</td>\n",
       "    </tr>\n",
       "    <tr>\n",
       "      <th>25%</th>\n",
       "      <td>63.000000</td>\n",
       "      <td>40.650000</td>\n",
       "    </tr>\n",
       "    <tr>\n",
       "      <th>50%</th>\n",
       "      <td>73.000000</td>\n",
       "      <td>53.620000</td>\n",
       "    </tr>\n",
       "    <tr>\n",
       "      <th>75%</th>\n",
       "      <td>82.000000</td>\n",
       "      <td>63.630000</td>\n",
       "    </tr>\n",
       "    <tr>\n",
       "      <th>max</th>\n",
       "      <td>101.000000</td>\n",
       "      <td>89.290000</td>\n",
       "    </tr>\n",
       "  </tbody>\n",
       "</table>\n",
       "</div>"
      ],
      "text/plain": [
       "       Temperature  Ice Cream Profits\n",
       "count   365.000000         365.000000\n",
       "mean     71.980822          52.103616\n",
       "std      13.258510          15.989004\n",
       "min      39.000000          11.880000\n",
       "25%      63.000000          40.650000\n",
       "50%      73.000000          53.620000\n",
       "75%      82.000000          63.630000\n",
       "max     101.000000          89.290000"
      ]
     },
     "execution_count": 77,
     "metadata": {},
     "output_type": "execute_result"
    }
   ],
   "source": [
    "# Look into the data set\n",
    "data_set.describe()"
   ]
  },
  {
   "cell_type": "code",
   "execution_count": 87,
   "id": "efc53da0",
   "metadata": {},
   "outputs": [
    {
     "data": {
      "text/plain": [
       "Temperature          0\n",
       "Ice Cream Profits    0\n",
       "dtype: int64"
      ]
     },
     "execution_count": 87,
     "metadata": {},
     "output_type": "execute_result"
    }
   ],
   "source": [
    "#Look for any NaN values\n",
    "data_set.isnull().sum()\n",
    "#The output \"0\" states that there are 0 null values in the data frame in eavch coloumn specified"
   ]
  },
  {
   "cell_type": "code",
   "execution_count": 87,
   "id": "d66cd8c3",
   "metadata": {},
   "outputs": [
    {
     "data": {
      "text/plain": [
       "Temperature          0\n",
       "Ice Cream Profits    0\n",
       "dtype: int64"
      ]
     },
     "execution_count": 87,
     "metadata": {},
     "output_type": "execute_result"
    }
   ],
   "source": [
    "#Look for any NaN values\n",
    "data_set.isnull().sum()\n",
    "#The output \"0\" states that there are 0 null values in the data frame in eavch coloumn specified"
   ]
  },
  {
   "cell_type": "code",
   "execution_count": 89,
   "id": "591b82a2",
   "metadata": {
    "scrolled": true
   },
   "outputs": [
    {
     "data": {
      "text/html": [
       "<div>\n",
       "<style scoped>\n",
       "    .dataframe tbody tr th:only-of-type {\n",
       "        vertical-align: middle;\n",
       "    }\n",
       "\n",
       "    .dataframe tbody tr th {\n",
       "        vertical-align: top;\n",
       "    }\n",
       "\n",
       "    .dataframe thead th {\n",
       "        text-align: right;\n",
       "    }\n",
       "</style>\n",
       "<table border=\"1\" class=\"dataframe\">\n",
       "  <thead>\n",
       "    <tr style=\"text-align: right;\">\n",
       "      <th></th>\n",
       "      <th>Temperature</th>\n",
       "      <th>Ice Cream Profits</th>\n",
       "    </tr>\n",
       "  </thead>\n",
       "  <tbody>\n",
       "    <tr>\n",
       "      <th>227</th>\n",
       "      <td>77</td>\n",
       "      <td>56.33</td>\n",
       "    </tr>\n",
       "  </tbody>\n",
       "</table>\n",
       "</div>"
      ],
      "text/plain": [
       "     Temperature  Ice Cream Profits\n",
       "227           77              56.33"
      ]
     },
     "execution_count": 89,
     "metadata": {},
     "output_type": "execute_result"
    }
   ],
   "source": [
    "#reomove Dublicated rows\n",
    "data_set[data_set.duplicated()]\n",
    "# Reruens the dublicated row "
   ]
  },
  {
   "cell_type": "code",
   "execution_count": 90,
   "id": "9e5e3c84",
   "metadata": {},
   "outputs": [
    {
     "data": {
      "text/html": [
       "<div>\n",
       "<style scoped>\n",
       "    .dataframe tbody tr th:only-of-type {\n",
       "        vertical-align: middle;\n",
       "    }\n",
       "\n",
       "    .dataframe tbody tr th {\n",
       "        vertical-align: top;\n",
       "    }\n",
       "\n",
       "    .dataframe thead th {\n",
       "        text-align: right;\n",
       "    }\n",
       "</style>\n",
       "<table border=\"1\" class=\"dataframe\">\n",
       "  <thead>\n",
       "    <tr style=\"text-align: right;\">\n",
       "      <th></th>\n",
       "      <th>Temperature</th>\n",
       "      <th>Ice Cream Profits</th>\n",
       "    </tr>\n",
       "  </thead>\n",
       "  <tbody>\n",
       "    <tr>\n",
       "      <th>0</th>\n",
       "      <td>39</td>\n",
       "      <td>13.17</td>\n",
       "    </tr>\n",
       "    <tr>\n",
       "      <th>1</th>\n",
       "      <td>40</td>\n",
       "      <td>11.88</td>\n",
       "    </tr>\n",
       "    <tr>\n",
       "      <th>2</th>\n",
       "      <td>41</td>\n",
       "      <td>18.82</td>\n",
       "    </tr>\n",
       "    <tr>\n",
       "      <th>3</th>\n",
       "      <td>42</td>\n",
       "      <td>18.65</td>\n",
       "    </tr>\n",
       "    <tr>\n",
       "      <th>4</th>\n",
       "      <td>43</td>\n",
       "      <td>17.02</td>\n",
       "    </tr>\n",
       "    <tr>\n",
       "      <th>...</th>\n",
       "      <td>...</td>\n",
       "      <td>...</td>\n",
       "    </tr>\n",
       "    <tr>\n",
       "      <th>360</th>\n",
       "      <td>99</td>\n",
       "      <td>85.13</td>\n",
       "    </tr>\n",
       "    <tr>\n",
       "      <th>361</th>\n",
       "      <td>99</td>\n",
       "      <td>87.08</td>\n",
       "    </tr>\n",
       "    <tr>\n",
       "      <th>362</th>\n",
       "      <td>99</td>\n",
       "      <td>89.29</td>\n",
       "    </tr>\n",
       "    <tr>\n",
       "      <th>363</th>\n",
       "      <td>101</td>\n",
       "      <td>81.91</td>\n",
       "    </tr>\n",
       "    <tr>\n",
       "      <th>364</th>\n",
       "      <td>101</td>\n",
       "      <td>85.02</td>\n",
       "    </tr>\n",
       "  </tbody>\n",
       "</table>\n",
       "<p>364 rows × 2 columns</p>\n",
       "</div>"
      ],
      "text/plain": [
       "     Temperature  Ice Cream Profits\n",
       "0             39              13.17\n",
       "1             40              11.88\n",
       "2             41              18.82\n",
       "3             42              18.65\n",
       "4             43              17.02\n",
       "..           ...                ...\n",
       "360           99              85.13\n",
       "361           99              87.08\n",
       "362           99              89.29\n",
       "363          101              81.91\n",
       "364          101              85.02\n",
       "\n",
       "[364 rows x 2 columns]"
      ]
     },
     "execution_count": 90,
     "metadata": {},
     "output_type": "execute_result"
    }
   ],
   "source": [
    "#Remove the dublicated rows\n",
    "data_set.drop_duplicates()"
   ]
  },
  {
   "cell_type": "code",
   "execution_count": 92,
   "id": "31f8af5b",
   "metadata": {},
   "outputs": [
    {
     "data": {
      "image/png": "[encoded data removed]",
      "text/plain": [
       "<Figure size 640x480 with 1 Axes>"
      ]
     },
     "metadata": {},
     "output_type": "display_data"
    }
   ],
   "source": [
    "#Visualize the data \n",
    "plt.scatter(data_set[\"Temperature\"],data_set[\"Ice Cream Profits\"],c = \"black\")\n",
    "plt.show()"
   ]
  },
  {
   "cell_type": "code",
   "execution_count": 6,
   "id": "3631c12e",
   "metadata": {},
   "outputs": [],
   "source": [
    "model = LinearRegression()\n",
    "# Divide the data set into Test Train by using following commands\n",
    "Temperature_Train , Temperature_Test , Profits_Train , Profits_Test = train_test_split(data_set[\"Temperature\"],data_set[\"Ice Cream Profits\"],test_size=0.2)"
   ]
  },
  {
   "cell_type": "code",
   "execution_count": 61,
   "id": "98ab6323",
   "metadata": {},
   "outputs": [
    {
     "data": {
      "text/html": [
       "<style>#sk-container-id-3 {color: black;}#sk-container-id-3 pre{padding: 0;}#sk-container-id-3 div.sk-toggleable {background-color: white;}#sk-container-id-3 label.sk-toggleable__label {cursor: pointer;display: block;width: 100%;margin-bottom: 0;padding: 0.3em;box-sizing: border-box;text-align: center;}#sk-container-id-3 label.sk-toggleable__label-arrow:before {content: \"▸\";float: left;margin-right: 0.25em;color: #696969;}#sk-container-id-3 label.sk-toggleable__label-arrow:hover:before {color: black;}#sk-container-id-3 div.sk-estimator:hover label.sk-toggleable__label-arrow:before {color: black;}#sk-container-id-3 div.sk-toggleable__content {max-height: 0;max-width: 0;overflow: hidden;text-align: left;background-color: #f0f8ff;}#sk-container-id-3 div.sk-toggleable__content pre {margin: 0.2em;color: black;border-radius: 0.25em;background-color: #f0f8ff;}#sk-container-id-3 input.sk-toggleable__control:checked~div.sk-toggleable__content {max-height: 200px;max-width: 100%;overflow: auto;}#sk-container-id-3 input.sk-toggleable__control:checked~label.sk-toggleable__label-arrow:before {content: \"▾\";}#sk-container-id-3 div.sk-estimator input.sk-toggleable__control:checked~label.sk-toggleable__label {background-color: #d4ebff;}#sk-container-id-3 div.sk-label input.sk-toggleable__control:checked~label.sk-toggleable__label {background-color: #d4ebff;}#sk-container-id-3 input.sk-hidden--visually {border: 0;clip: rect(1px 1px 1px 1px);clip: rect(1px, 1px, 1px, 1px);height: 1px;margin: -1px;overflow: hidden;padding: 0;position: absolute;width: 1px;}#sk-container-id-3 div.sk-estimator {font-family: monospace;background-color: #f0f8ff;border: 1px dotted black;border-radius: 0.25em;box-sizing: border-box;margin-bottom: 0.5em;}#sk-container-id-3 div.sk-estimator:hover {background-color: #d4ebff;}#sk-container-id-3 div.sk-parallel-item::after {content: \"\";width: 100%;border-bottom: 1px solid gray;flex-grow: 1;}#sk-container-id-3 div.sk-label:hover label.sk-toggleable__label {background-color: #d4ebff;}#sk-container-id-3 div.sk-serial::before {content: \"\";position: absolute;border-left: 1px solid gray;box-sizing: border-box;top: 0;bottom: 0;left: 50%;z-index: 0;}#sk-container-id-3 div.sk-serial {display: flex;flex-direction: column;align-items: center;background-color: white;padding-right: 0.2em;padding-left: 0.2em;position: relative;}#sk-container-id-3 div.sk-item {position: relative;z-index: 1;}#sk-container-id-3 div.sk-parallel {display: flex;align-items: stretch;justify-content: center;background-color: white;position: relative;}#sk-container-id-3 div.sk-item::before, #sk-container-id-3 div.sk-parallel-item::before {content: \"\";position: absolute;border-left: 1px solid gray;box-sizing: border-box;top: 0;bottom: 0;left: 50%;z-index: -1;}#sk-container-id-3 div.sk-parallel-item {display: flex;flex-direction: column;z-index: 1;position: relative;background-color: white;}#sk-container-id-3 div.sk-parallel-item:first-child::after {align-self: flex-end;width: 50%;}#sk-container-id-3 div.sk-parallel-item:last-child::after {align-self: flex-start;width: 50%;}#sk-container-id-3 div.sk-parallel-item:only-child::after {width: 0;}#sk-container-id-3 div.sk-dashed-wrapped {border: 1px dashed gray;margin: 0 0.4em 0.5em 0.4em;box-sizing: border-box;padding-bottom: 0.4em;background-color: white;}#sk-container-id-3 div.sk-label label {font-family: monospace;font-weight: bold;display: inline-block;line-height: 1.2em;}#sk-container-id-3 div.sk-label-container {text-align: center;}#sk-container-id-3 div.sk-container {/* jupyter's `normalize.less` sets `[hidden] { display: none; }` but bootstrap.min.css set `[hidden] { display: none !important; }` so we also need the `!important` here to be able to override the default hidden behavior on the sphinx rendered scikit-learn.org. See: https://github.com/scikit-learn/scikit-learn/issues/21755 */display: inline-block !important;position: relative;}#sk-container-id-3 div.sk-text-repr-fallback {display: none;}</style><div id=\"sk-container-id-3\" class=\"sk-top-container\"><div class=\"sk-text-repr-fallback\"><pre>LinearRegression()</pre><b>In a Jupyter environment, please rerun this cell to show the HTML representation or trust the notebook. <br />On GitHub, the HTML representation is unable to render, please try loading this page with nbviewer.org.</b></div><div class=\"sk-container\" hidden><div class=\"sk-item\"><div class=\"sk-estimator sk-toggleable\"><input class=\"sk-toggleable__control sk-hidden--visually\" id=\"sk-estimator-id-3\" type=\"checkbox\" checked><label for=\"sk-estimator-id-3\" class=\"sk-toggleable__label sk-toggleable__label-arrow\">LinearRegression</label><div class=\"sk-toggleable__content\"><pre>LinearRegression()</pre></div></div></div></div></div>"
      ],
      "text/plain": [
       "LinearRegression()"
      ]
     },
     "execution_count": 61,
     "metadata": {},
     "output_type": "execute_result"
    }
   ],
   "source": []
  },
  {
   "cell_type": "code",
   "execution_count": 103,
   "id": "80f9a97d",
   "metadata": {},
   "outputs": [
    {
     "data": {
      "text/plain": [
       "array([[ 90.        ,  73.71511443],\n",
       "       [ 41.        ,  14.95498649],\n",
       "       [101.        ,  86.90616356],\n",
       "       [ 67.        ,  46.13382989],\n",
       "       [ 59.        ,  36.54033961],\n",
       "       [ 75.        ,  55.72732016],\n",
       "       [ 84.        ,  66.51999672],\n",
       "       [ 70.        ,  49.73138874],\n",
       "       [ 81.        ,  62.92243787],\n",
       "       [ 82.        ,  64.12162415],\n",
       "       [ 78.        ,  59.32487901],\n",
       "       [ 56.        ,  32.94278076],\n",
       "       [ 93.        ,  77.31267328],\n",
       "       [ 70.        ,  49.73138874],\n",
       "       [ 77.        ,  58.12569273],\n",
       "       [ 70.        ,  49.73138874],\n",
       "       [ 51.        ,  26.94684933],\n",
       "       [ 65.        ,  43.73545732],\n",
       "       [ 40.        ,  13.75580021],\n",
       "       [ 77.        ,  58.12569273],\n",
       "       [ 77.        ,  58.12569273],\n",
       "       [ 82.        ,  64.12162415],\n",
       "       [ 64.        ,  42.53627103],\n",
       "       [ 71.        ,  50.93057502],\n",
       "       [ 86.        ,  68.91836929],\n",
       "       [ 88.        ,  71.31674186],\n",
       "       [ 79.        ,  60.5240653 ],\n",
       "       [ 66.        ,  44.9346436 ],\n",
       "       [ 64.        ,  42.53627103],\n",
       "       [ 43.        ,  17.35335906],\n",
       "       [ 72.        ,  52.12976131],\n",
       "       [ 90.        ,  73.71511443],\n",
       "       [ 62.        ,  40.13789846],\n",
       "       [ 71.        ,  50.93057502],\n",
       "       [ 58.        ,  35.34115333],\n",
       "       [ 78.        ,  59.32487901],\n",
       "       [ 67.        ,  46.13382989],\n",
       "       [ 71.        ,  50.93057502],\n",
       "       [ 72.        ,  52.12976131],\n",
       "       [ 45.        ,  19.75173163],\n",
       "       [ 60.        ,  37.73952589],\n",
       "       [ 48.        ,  23.34929048],\n",
       "       [ 79.        ,  60.5240653 ],\n",
       "       [ 62.        ,  40.13789846],\n",
       "       [ 71.        ,  50.93057502],\n",
       "       [ 66.        ,  44.9346436 ],\n",
       "       [ 91.        ,  74.91430071],\n",
       "       [ 81.        ,  62.92243787],\n",
       "       [ 78.        ,  59.32487901],\n",
       "       [ 73.        ,  53.32894759],\n",
       "       [ 97.        ,  82.10941842],\n",
       "       [ 54.        ,  30.54440819],\n",
       "       [ 84.        ,  66.51999672],\n",
       "       [ 84.        ,  66.51999672],\n",
       "       [ 62.        ,  40.13789846],\n",
       "       [ 59.        ,  36.54033961],\n",
       "       [ 58.        ,  35.34115333],\n",
       "       [ 61.        ,  38.93871218],\n",
       "       [ 99.        ,  84.50779099],\n",
       "       [ 68.        ,  47.33301617],\n",
       "       [ 46.        ,  20.95091791],\n",
       "       [ 59.        ,  36.54033961],\n",
       "       [ 56.        ,  32.94278076],\n",
       "       [ 67.        ,  46.13382989],\n",
       "       [ 69.        ,  48.53220245],\n",
       "       [ 71.        ,  50.93057502],\n",
       "       [ 81.        ,  62.92243787],\n",
       "       [ 54.        ,  30.54440819],\n",
       "       [ 43.        ,  17.35335906],\n",
       "       [ 48.        ,  23.34929048],\n",
       "       [ 76.        ,  56.92650645],\n",
       "       [ 53.        ,  29.3452219 ],\n",
       "       [ 61.        ,  38.93871218]])"
      ]
     },
     "execution_count": 103,
     "metadata": {},
     "output_type": "execute_result"
    }
   ],
   "source": [
    "Profit_pred = model.predict(np.array(Temperature_Test).reshape(-1,1))\n",
    "\n",
    "np.column_stack((T_t,Profit_pred)) # To show the predictions side by side \n"
   ]
  },
  {
   "cell_type": "code",
   "execution_count": 104,
   "id": "e993735c",
   "metadata": {},
   "outputs": [
    {
     "data": {
      "text/plain": [
       "0.9772333983301651"
      ]
     },
     "execution_count": 104,
     "metadata": {},
     "output_type": "execute_result"
    }
   ],
   "source": [
    "# R Squared score of the model \n",
    "model.score(T_t,np.array(Profits_Test).reshape(-1,1)) \n"
   ]
  },
  {
   "cell_type": "code",
   "execution_count": 99,
   "id": "3801d3e4",
   "metadata": {},
   "outputs": [
    {
     "name": "stdout",
     "output_type": "stream",
     "text": [
      "[[1.19918628]]\n"
     ]
    }
   ],
   "source": [
    "print(model.coef_)"
   ]
  },
  {
   "cell_type": "code",
   "execution_count": 100,
   "id": "8a84a3d8",
   "metadata": {},
   "outputs": [
    {
     "data": {
      "text/plain": [
       "array([-34.21165117])"
      ]
     },
     "execution_count": 100,
     "metadata": {},
     "output_type": "execute_result"
    }
   ],
   "source": [
    "model.intercept_"
   ]
  },
  {
   "cell_type": "code",
   "execution_count": 102,
   "id": "bc548a13",
   "metadata": {},
   "outputs": [
    {
     "data": {
      "image/png": "[encoded data removed]",
      "text/plain": [
       "<Figure size 640x480 with 1 Axes>"
      ]
     },
     "metadata": {},
     "output_type": "display_data"
    }
   ],
   "source": [
    "#Visualizing the Linear regression line \n",
    "plt.scatter(data_set[\"Temperature\"],data_set[\"Ice Cream Profits\"],c = \"black\")\n",
    "plt.plot(Temperature_Test,Profit_pred,c = \"r\")\n",
    "plt.show()"
   ]
  }
 ],
 "metadata": {
  "kernelspec": {
   "display_name": "Python 3 (ipykernel)",
   "language": "python",
   "name": "python3"
  },
  "language_info": {
   "codemirror_mode": {
    "name": "ipython",
    "version": 3
   },
   "file_extension": ".py",
   "mimetype": "text/x-python",
   "name": "python",
   "nbconvert_exporter": "python",
   "pygments_lexer": "ipython3",
   "version": "3.11.5"
  }
 },
 "nbformat": 4,
 "nbformat_minor": 5
}
